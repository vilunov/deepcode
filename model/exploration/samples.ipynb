{
 "cells": [
  {
   "cell_type": "code",
   "execution_count": 1,
   "metadata": {
    "collapsed": true,
    "pycharm": {
     "is_executing": false
    }
   },
   "outputs": [],
   "source": [
    "import os\n",
    "import gzip\n",
    "import json\n",
    "from collections import Counter\n",
    "\n",
    "import h5py\n",
    "from tokenizers import ByteLevelBPETokenizer\n",
    "from tokenizers.trainers import BpeTrainer\n",
    "\n",
    "from deepcode.config import parse_config\n",
    "from deepcode.train.data import CodeDataset"
   ]
  },
  {
   "cell_type": "code",
   "execution_count": 2,
   "outputs": [],
   "source": [
    "os.chdir(\"..\")"
   ],
   "metadata": {
    "collapsed": false,
    "pycharm": {
     "name": "#%%\n",
     "is_executing": false
    }
   }
  },
  {
   "cell_type": "code",
   "execution_count": 3,
   "outputs": [],
   "source": [
    "device = \"cpu\"\n",
    "with open(\"config.toml\", \"r\") as f:\n",
    "    config = parse_config(f.read())\n",
    "file = h5py.File(config.training.data_train, \"r\")\n",
    "data = CodeDataset(file[\"java\"], \"java\", device)"
   ],
   "metadata": {
    "collapsed": false,
    "pycharm": {
     "name": "#%%\n",
     "is_executing": false
    }
   }
  },
  {
   "cell_type": "code",
   "execution_count": 5,
   "outputs": [],
   "source": [
    "tokenizer_doc = ByteLevelBPETokenizer(\"../cache/vocabs/doc-vocab.json\", \"../cache/vocabs/doc-merges.txt\")\n",
    "tokenizer_java = ByteLevelBPETokenizer(\"../cache/vocabs/code-java-vocab.json\", \"../cache/vocabs/code-java-merges.txt\")\n"
   ],
   "metadata": {
    "collapsed": false,
    "pycharm": {
     "name": "#%%\n",
     "is_executing": false
    }
   }
  },
  {
   "cell_type": "code",
   "execution_count": 6,
   "outputs": [
    {
     "name": "stdout",
     "text": [
      "['protected', 'final', 'void', 'bind', 'Indexed', '(', 'Configuration', 'PropertyName', 'name', ',', 'Bind', 'able', '<', '?', '>', 'target', ',', 'Aggregate', 'Element', 'Binder', 'element', 'Binder', ',', 'Resol', 'v', 'ableType', 'aggregate', 'Type', ',', 'Resol', 'v', 'ableType', 'elementType', ',', 'Indexed', 'Collection', 'Supplier', 'result', ')', '{', 'for', '(', 'Configuration', 'Property', 'Source', 'source', ':', 'getContext', '(', ')', '.', 'getS', 'ources', '(', ')', ')', '{', 'bind', 'Indexed', '(', 'source', ',', 'name', ',', 'target', ',', 'element', 'Binder', ',', 'result', ',', 'aggregate', 'Type', ',', 'elementType', ')', ';', 'if', '(', 'result', '.', 'was', 'Sup', 'plied', '(', ')', '&&', 'result', '.', 'get', '(', ')', '!=', 'null', ')', '{', 'return', ';', '}', '}', '}']\n"
     ],
     "output_type": "stream"
    }
   ],
   "source": [
    "def print_sample(idx: int):\n",
    "    language, (code_tokens, code_mask, doc_tokens, doc_mask, name_tokens, name_mask) = data[idx]\n",
    "    code_tokens = code_tokens[code_mask]\n",
    "    print(tokenizer_java.decode_batch(list([i] for i in code_tokens)))\n",
    "\n",
    "print_sample(0)"
   ],
   "metadata": {
    "collapsed": false,
    "pycharm": {
     "name": "#%%\n",
     "is_executing": false
    }
   }
  },
  {
   "cell_type": "code",
   "execution_count": 5,
   "outputs": [],
   "source": [
    "with gzip.open(\"/Users/admin/Thesis/CodeSearchNet/resources/data/java/final/jsonl/train/java_train_0.jsonl.gz\", \"r\") as f:\n",
    "    res = [f.readline() for _ in range(5)]\n",
    "res = [json.loads(s) for s in res]\n"
   ],
   "metadata": {
    "collapsed": false,
    "pycharm": {
     "name": "#%%\n",
     "is_executing": false
    }
   }
  },
  {
   "cell_type": "code",
   "execution_count": 7,
   "outputs": [
    {
     "name": "stdout",
     "text": [
      "['protected', 'final', 'void', 'bindIndexed', '(', 'ConfigurationPropertyName', 'name', ',', 'Bindable', '<', '?', '>', 'target', ',', 'AggregateElementBinder', 'elementBinder', ',', 'ResolvableType', 'aggregateType', ',', 'ResolvableType', 'elementType', ',', 'IndexedCollectionSupplier', 'result', ')', '{', 'for', '(', 'ConfigurationPropertySource', 'source', ':', 'getContext', '(', ')', '.', 'getSources', '(', ')', ')', '{', 'bindIndexed', '(', 'source', ',', 'name', ',', 'target', ',', 'elementBinder', ',', 'result', ',', 'aggregateType', ',', 'elementType', ')', ';', 'if', '(', 'result', '.', 'wasSupplied', '(', ')', '&&', 'result', '.', 'get', '(', ')', '!=', 'null', ')', '{', 'return', ';', '}', '}', '}']\n"
     ],
     "output_type": "stream"
    }
   ],
   "source": [
    "def print_from_lines(idx: int):\n",
    "    print(res[idx][\"code_tokens\"])\n",
    "\n",
    "print_from_lines(0)"
   ],
   "metadata": {
    "collapsed": false,
    "pycharm": {
     "name": "#%%\n",
     "is_executing": false
    }
   }
  },
  {
   "cell_type": "code",
   "execution_count": 16,
   "outputs": [
    {
     "traceback": [
      "\u001b[0;31m---------------------------------------------------------------------------\u001b[0m",
      "\u001b[0;31mAttributeError\u001b[0m                            Traceback (most recent call last)",
      "\u001b[0;32m<ipython-input-16-86e9cb418e98>\u001b[0m in \u001b[0;36m<module>\u001b[0;34m\u001b[0m\n\u001b[1;32m      3\u001b[0m     \u001b[0mcounter\u001b[0m \u001b[0;34m+=\u001b[0m \u001b[0mCounter\u001b[0m\u001b[0;34m(\u001b[0m\u001b[0mi\u001b[0m\u001b[0;34m[\u001b[0m\u001b[0;34m\"code_tokens\"\u001b[0m\u001b[0;34m]\u001b[0m\u001b[0;34m)\u001b[0m\u001b[0;34m\u001b[0m\u001b[0;34m\u001b[0m\u001b[0m\n\u001b[1;32m      4\u001b[0m \u001b[0mtrainer\u001b[0m \u001b[0;34m=\u001b[0m \u001b[0mBpeTrainer\u001b[0m\u001b[0;34m(\u001b[0m\u001b[0mvocab_size\u001b[0m \u001b[0;34m=\u001b[0m \u001b[0;36m100\u001b[0m\u001b[0;34m,\u001b[0m \u001b[0mmin_frequency\u001b[0m \u001b[0;34m=\u001b[0m \u001b[0;36m0\u001b[0m\u001b[0;34m)\u001b[0m\u001b[0;34m\u001b[0m\u001b[0;34m\u001b[0m\u001b[0m\n\u001b[0;32m----> 5\u001b[0;31m \u001b[0mtrainer\u001b[0m\u001b[0;34m.\u001b[0m\u001b[0mtrain\u001b[0m\u001b[0;34m(\u001b[0m\u001b[0mcounter\u001b[0m\u001b[0;34m)\u001b[0m\u001b[0;34m\u001b[0m\u001b[0;34m\u001b[0m\u001b[0m\n\u001b[0m",
      "\u001b[0;31mAttributeError\u001b[0m: 'BpeTrainer' object has no attribute 'train'"
     ],
     "ename": "AttributeError",
     "evalue": "'BpeTrainer' object has no attribute 'train'",
     "output_type": "error"
    }
   ],
   "source": [
    "counter = Counter()\n",
    "for i in res:\n",
    "    counter += Counter(i[\"code_tokens\"])\n",
    "trainer = BpeTrainer(vocab_size = 100, min_frequency = 0)\n",
    "trainer.train(counter)"
   ],
   "metadata": {
    "collapsed": false,
    "pycharm": {
     "name": "#%%\n",
     "is_executing": false
    }
   }
  },
  {
   "cell_type": "code",
   "execution_count": 26,
   "outputs": [
    {
     "data": {
      "text/plain": "[]"
     },
     "metadata": {},
     "output_type": "execute_result",
     "execution_count": 26
    }
   ],
   "source": [
    "tokenizer_java.encode(\"\\n\").ids"
   ],
   "metadata": {
    "collapsed": false,
    "pycharm": {
     "name": "#%%\n",
     "is_executing": false
    }
   }
  }
 ],
 "metadata": {
  "kernelspec": {
   "display_name": "Python 3",
   "language": "python",
   "name": "python3"
  },
  "language_info": {
   "codemirror_mode": {
    "name": "ipython",
    "version": 2
   },
   "file_extension": ".py",
   "mimetype": "text/x-python",
   "name": "python",
   "nbconvert_exporter": "python",
   "pygments_lexer": "ipython2",
   "version": "2.7.6"
  },
  "pycharm": {
   "stem_cell": {
    "cell_type": "raw",
    "source": [],
    "metadata": {
     "collapsed": false
    }
   }
  }
 },
 "nbformat": 4,
 "nbformat_minor": 0
}